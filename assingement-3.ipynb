{
 "cells": [
  {
   "cell_type": "code",
   "execution_count": 15,
   "id": "7130c477-8ddb-4226-abc2-13952f2517a5",
   "metadata": {},
   "outputs": [
    {
     "name": "stdout",
     "output_type": "stream",
     "text": [
      "[1, 3, 5, 7, 9, 11, 13, 15, 17, 19, 21, 23, 25]\n"
     ]
    }
   ],
   "source": [
    "#Q1\n",
    "#def keyword is used to create a function\n",
    "def odd_numbers(n):\n",
    "    return [x for x in range (n + 1) if x % 2 ==1]\n",
    "print(odd_numbers(25))\n",
    "        \n",
    "        \n",
    "        "
   ]
  },
  {
   "cell_type": "code",
   "execution_count": 16,
   "id": "5f6c5217-5fe5-4d51-bec7-66cf68f41fde",
   "metadata": {},
   "outputs": [],
   "source": [
    "#Q2\n",
    "# *args and **kwargs are used as arguments of a function when you are unsure about how many numbers to pass in the function\n",
    "# they allows to take varibles length argument.\n",
    "def test(*args,b):\n",
    "    return *args,b"
   ]
  },
  {
   "cell_type": "code",
   "execution_count": 17,
   "id": "fd5acf7c-5ac8-4cd3-896e-5d21692dda99",
   "metadata": {},
   "outputs": [
    {
     "data": {
      "text/plain": [
       "(1, 2, 3, 21)"
      ]
     },
     "execution_count": 17,
     "metadata": {},
     "output_type": "execute_result"
    }
   ],
   "source": [
    "test(1,2,3 , b =21)"
   ]
  },
  {
   "cell_type": "code",
   "execution_count": 37,
   "id": "b43e7160-9583-4e9c-97c8-c00707994473",
   "metadata": {},
   "outputs": [],
   "source": [
    "def test2(**kwargs):\n",
    "    return kwargs"
   ]
  },
  {
   "cell_type": "code",
   "execution_count": 38,
   "id": "a4d275a9-a18a-467b-829b-91a61e69fde9",
   "metadata": {},
   "outputs": [
    {
     "data": {
      "text/plain": [
       "{}"
      ]
     },
     "execution_count": 38,
     "metadata": {},
     "output_type": "execute_result"
    }
   ],
   "source": [
    "test2()"
   ]
  },
  {
   "cell_type": "code",
   "execution_count": 39,
   "id": "0a87f4d7-8d38-4845-ab7f-cadbbdc91a58",
   "metadata": {},
   "outputs": [
    {
     "data": {
      "text/plain": [
       "{'a': [1, 2, 3], 'b': 4.22, 'c': 'tab'}"
      ]
     },
     "execution_count": 39,
     "metadata": {},
     "output_type": "execute_result"
    }
   ],
   "source": [
    "test2(a=[1,2,3] , b =4.22, c='tab') "
   ]
  },
  {
   "cell_type": "code",
   "execution_count": 93,
   "id": "4c0debe6-dd5a-4ebd-871f-2bf9dad9ecdb",
   "metadata": {},
   "outputs": [
    {
     "name": "stdout",
     "output_type": "stream",
     "text": [
      "2\n",
      "4\n",
      "6\n",
      "8\n",
      "10\n"
     ]
    }
   ],
   "source": [
    "#Q3\n",
    "#itrator is an object whisch allows you to itrate over collections of data, such as lists, dictionaries, tuples, and sets\n",
    "#iter()method is used to initilize the iterator object \n",
    "#next()method is used to iteration.\n",
    "l=[2,4,6,8,10,12,14,16,18,20]\n",
    "iterator=iter(l)\n",
    "for i in range(5):\n",
    "    print(next (iterator))"
   ]
  },
  {
   "cell_type": "code",
   "execution_count": 110,
   "id": "3d6ffd26-42df-4e49-92ba-cfef8ac4edf0",
   "metadata": {},
   "outputs": [],
   "source": [
    "#Q4\n",
    "#generator function allow you to declare a function that behave like a itrator\n",
    "# to return a multiple values in generator function yield keywords is used\n"
   ]
  },
  {
   "cell_type": "code",
   "execution_count": 51,
   "id": "d6fbccb0-ffc9-485f-8711-2bcfd96c70d0",
   "metadata": {},
   "outputs": [],
   "source": [
    "def my_genrator(n):\n",
    "    genrator = 4\n",
    "    while genrator <= n:\n",
    "        yield genrator\n",
    "        genrator = genrator + 1\n",
    "    "
   ]
  },
  {
   "cell_type": "code",
   "execution_count": 52,
   "id": "179f346f-298c-4e2d-9b7d-a4224d60693a",
   "metadata": {},
   "outputs": [],
   "source": [
    "c = my_genrator(10)"
   ]
  },
  {
   "cell_type": "code",
   "execution_count": 53,
   "id": "47acfa44-57fb-4859-a5e0-1a65613509db",
   "metadata": {},
   "outputs": [
    {
     "name": "stdout",
     "output_type": "stream",
     "text": [
      "4\n",
      "5\n",
      "6\n",
      "7\n",
      "8\n",
      "9\n",
      "10\n"
     ]
    }
   ],
   "source": [
    "for i in c :\n",
    "    print (i)"
   ]
  },
  {
   "cell_type": "code",
   "execution_count": 54,
   "id": "48bf9bad-c9c5-46a6-b92f-fdf403a74a1d",
   "metadata": {},
   "outputs": [
    {
     "data": {
      "text/plain": [
       "generator"
      ]
     },
     "execution_count": 54,
     "metadata": {},
     "output_type": "execute_result"
    }
   ],
   "source": [
    "type(c)"
   ]
  },
  {
   "cell_type": "code",
   "execution_count": 60,
   "id": "55e5c299-513c-4818-9741-746b701e0960",
   "metadata": {},
   "outputs": [],
   "source": [
    "#Q5\n",
    "def prime(num):\n",
    "    if num < 2: return False\n",
    "    for i in range (2,int(num **0.5)+1):\n",
    "        if num%i ==0:\n",
    "            return False\n",
    "    return True"
   ]
  },
  {
   "cell_type": "code",
   "execution_count": 61,
   "id": "b1a5ccdd-0fa0-46d3-b06a-43acf8c260a1",
   "metadata": {},
   "outputs": [],
   "source": [
    "def prime_genrator():\n",
    "    for i in range(1000):\n",
    "        if prime(i):\n",
    "            yield i"
   ]
  },
  {
   "cell_type": "code",
   "execution_count": 62,
   "id": "162a4f1d-2467-4984-b8a1-45fb69b6763f",
   "metadata": {},
   "outputs": [
    {
     "data": {
      "text/plain": [
       "[2, 3, 5, 7, 11, 13, 17, 19, 23, 29, 31, 37, 41, 43, 47, 53, 59, 61, 67, 71]"
      ]
     },
     "execution_count": 62,
     "metadata": {},
     "output_type": "execute_result"
    }
   ],
   "source": [
    "prime_num = prime_genrator()\n",
    "\n",
    "[next(prime_num)for i in range(20)]"
   ]
  },
  {
   "cell_type": "code",
   "execution_count": 64,
   "id": "6f1d82d8-997c-4959-8963-5cc5d27eee1f",
   "metadata": {},
   "outputs": [
    {
     "name": "stdout",
     "output_type": "stream",
     "text": [
      "0 1 1 2 3 5 8 13 21 34 "
     ]
    }
   ],
   "source": [
    "#Q6\n",
    "def print_fibonacci():\n",
    "    num1, num2 =0,1\n",
    "    count = 0\n",
    "    while count <10:\n",
    "        print(num1, end=' ')\n",
    "        num1, num2 = num2, num1 + num2\n",
    "        count += 1\n",
    "print_fibonacci()"
   ]
  },
  {
   "cell_type": "code",
   "execution_count": 68,
   "id": "3b6fad28-5e05-49b0-b619-32bddfa42670",
   "metadata": {},
   "outputs": [
    {
     "name": "stdout",
     "output_type": "stream",
     "text": [
      "['p', 'w', 's', 'k', 'i', 'l', 'l', 's']\n"
     ]
    }
   ],
   "source": [
    "#Q7\n",
    "s ='pwskills'\n",
    "result =list(s)\n",
    "print(result)"
   ]
  },
  {
   "cell_type": "code",
   "execution_count": 67,
   "id": "61b2465c-8109-49a4-8750-87a7e4f9d921",
   "metadata": {},
   "outputs": [
    {
     "data": {
      "text/plain": [
       "['p', 'w', 's', 'k', 'i', 'l', 'l', 's']"
      ]
     },
     "execution_count": 67,
     "metadata": {},
     "output_type": "execute_result"
    }
   ],
   "source": [
    "list(s)"
   ]
  },
  {
   "cell_type": "code",
   "execution_count": 93,
   "id": "dc3d8c07-ca6a-4422-a7b0-f43ed8774ccb",
   "metadata": {},
   "outputs": [],
   "source": [
    "#Q8\n",
    "def is_palindrome(number):\n",
    "    original_number = number\n",
    "    reverse_number = 0\n",
    "    \n",
    "    while number > 0:\n",
    "        digit = number % 10\n",
    "        reverse_number = (reverse_number * 10) + digit\n",
    "        number = number // 10\n",
    "    if original_number == reverse_number:\n",
    "        return True\n",
    "    else:\n",
    "        return False"
   ]
  },
  {
   "cell_type": "code",
   "execution_count": 95,
   "id": "ab5c1a88-fccf-4d70-aff8-471f739d53b5",
   "metadata": {},
   "outputs": [
    {
     "name": "stdout",
     "output_type": "stream",
     "text": [
      "12345 is not a palindrome\n",
      "121 is a palindrome\n"
     ]
    }
   ],
   "source": [
    "numbers = [12345,121]\n",
    "for number in numbers:\n",
    "    if is_palindrome(number):\n",
    "        print(number, \"is a palindrome\")\n",
    "    else:\n",
    "        print(number, \"is not a palindrome\")"
   ]
  },
  {
   "cell_type": "code",
   "execution_count": null,
   "id": "2aa1a4b3-d524-46a4-8649-3f59fdcde7c3",
   "metadata": {},
   "outputs": [],
   "source": [
    "#Q9\n",
    "odd_number = [num for num in range (1,101)if num  % 2 !=]"
   ]
  }
 ],
 "metadata": {
  "kernelspec": {
   "display_name": "Python 3 (ipykernel)",
   "language": "python",
   "name": "python3"
  },
  "language_info": {
   "codemirror_mode": {
    "name": "ipython",
    "version": 3
   },
   "file_extension": ".py",
   "mimetype": "text/x-python",
   "name": "python",
   "nbconvert_exporter": "python",
   "pygments_lexer": "ipython3",
   "version": "3.10.8"
  }
 },
 "nbformat": 4,
 "nbformat_minor": 5
}
